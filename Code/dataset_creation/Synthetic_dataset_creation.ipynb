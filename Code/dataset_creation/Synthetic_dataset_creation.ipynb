{
 "cells": [
  {
   "cell_type": "markdown",
   "metadata": {},
   "source": [
    "# Synthetic SMOTE dataset creation\n",
    "\n",
    "@Author: Siôn William Davies"
   ]
  },
  {
   "cell_type": "markdown",
   "metadata": {},
   "source": [
    "Creation of the SMOTE dataset.\n",
    "\n",
    "As SMOTE oversampling technique requires the text data to be transformed/vectorized first, we do not split the data into training and test sets here. This is because transforming the data will be dependent upon which feature extraction technique is used (tf-idf, doc2vec, word2vec). Therefore, we wait until later in the Machine Learning pipeline to perform this. Consequently, the dataset produced will be intentionally imbalanced. "
   ]
  },
  {
   "cell_type": "code",
   "execution_count": 1,
   "metadata": {},
   "outputs": [],
   "source": [
    "import pandas as pd\n",
    "import numpy as np\n",
    "import re\n",
    "import string \n",
    "import nltk\n",
    "import inflect\n",
    "from nltk.corpus import stopwords"
   ]
  },
  {
   "cell_type": "code",
   "execution_count": 2,
   "metadata": {},
   "outputs": [],
   "source": [
    "# Upload the csv file with the data."
   ]
  },
  {
   "cell_type": "code",
   "execution_count": 3,
   "metadata": {},
   "outputs": [],
   "source": [
    "df = pd.read_csv('/Users/siondavies/Desktop/NLP/Datasets/Original_Datasets/Synthetic_1.csv')"
   ]
  },
  {
   "cell_type": "code",
   "execution_count": 4,
   "metadata": {},
   "outputs": [
    {
     "data": {
      "text/html": [
       "<div>\n",
       "<style scoped>\n",
       "    .dataframe tbody tr th:only-of-type {\n",
       "        vertical-align: middle;\n",
       "    }\n",
       "\n",
       "    .dataframe tbody tr th {\n",
       "        vertical-align: top;\n",
       "    }\n",
       "\n",
       "    .dataframe thead th {\n",
       "        text-align: right;\n",
       "    }\n",
       "</style>\n",
       "<table border=\"1\" class=\"dataframe\">\n",
       "  <thead>\n",
       "    <tr style=\"text-align: right;\">\n",
       "      <th></th>\n",
       "      <th>Index</th>\n",
       "      <th>Source Dataset</th>\n",
       "      <th>Message_Post</th>\n",
       "      <th>Label</th>\n",
       "      <th>Fascist_Speech</th>\n",
       "      <th>Category</th>\n",
       "      <th>Forum</th>\n",
       "      <th>String_Length</th>\n",
       "      <th>Language_ID</th>\n",
       "      <th>Character_Length</th>\n",
       "    </tr>\n",
       "  </thead>\n",
       "  <tbody>\n",
       "    <tr>\n",
       "      <th>0</th>\n",
       "      <td>1</td>\n",
       "      <td>Iron_March</td>\n",
       "      <td>If you mean the dark+orange skin then that's a...</td>\n",
       "      <td>Fascist</td>\n",
       "      <td>Yes</td>\n",
       "      <td>Supremacism/Racism</td>\n",
       "      <td>Iron_March</td>\n",
       "      <td>140</td>\n",
       "      <td>en</td>\n",
       "      <td>114</td>\n",
       "    </tr>\n",
       "    <tr>\n",
       "      <th>1</th>\n",
       "      <td>2</td>\n",
       "      <td>Iron_March</td>\n",
       "      <td>This journal (about 25 pages) provides a good ...</td>\n",
       "      <td>Fascist</td>\n",
       "      <td>Yes</td>\n",
       "      <td>Totalitarianism/Authoritarianism</td>\n",
       "      <td>Iron_March</td>\n",
       "      <td>337</td>\n",
       "      <td>en</td>\n",
       "      <td>275</td>\n",
       "    </tr>\n",
       "    <tr>\n",
       "      <th>2</th>\n",
       "      <td>3</td>\n",
       "      <td>Iron_March</td>\n",
       "      <td>AS for the book you sent a link to: it is inte...</td>\n",
       "      <td>Fascist</td>\n",
       "      <td>Yes</td>\n",
       "      <td>Fascist</td>\n",
       "      <td>Iron_March</td>\n",
       "      <td>241</td>\n",
       "      <td>en</td>\n",
       "      <td>198</td>\n",
       "    </tr>\n",
       "    <tr>\n",
       "      <th>3</th>\n",
       "      <td>4</td>\n",
       "      <td>Iron_March</td>\n",
       "      <td>I don't know if you've seen many of my posts o...</td>\n",
       "      <td>Fascist</td>\n",
       "      <td>Yes</td>\n",
       "      <td>Supremacism/Racism</td>\n",
       "      <td>Iron_March</td>\n",
       "      <td>246</td>\n",
       "      <td>en</td>\n",
       "      <td>201</td>\n",
       "    </tr>\n",
       "    <tr>\n",
       "      <th>4</th>\n",
       "      <td>5</td>\n",
       "      <td>Iron_March</td>\n",
       "      <td>In defining superiority I rank it like this:\\n...</td>\n",
       "      <td>Fascist</td>\n",
       "      <td>Yes</td>\n",
       "      <td>NaN</td>\n",
       "      <td>Iron_March</td>\n",
       "      <td>636</td>\n",
       "      <td>en</td>\n",
       "      <td>580</td>\n",
       "    </tr>\n",
       "  </tbody>\n",
       "</table>\n",
       "</div>"
      ],
      "text/plain": [
       "   Index Source Dataset                                       Message_Post  \\\n",
       "0      1     Iron_March  If you mean the dark+orange skin then that's a...   \n",
       "1      2     Iron_March  This journal (about 25 pages) provides a good ...   \n",
       "2      3     Iron_March  AS for the book you sent a link to: it is inte...   \n",
       "3      4     Iron_March  I don't know if you've seen many of my posts o...   \n",
       "4      5     Iron_March  In defining superiority I rank it like this:\\n...   \n",
       "\n",
       "     Label Fascist_Speech                          Category       Forum  \\\n",
       "0  Fascist            Yes                Supremacism/Racism  Iron_March   \n",
       "1  Fascist            Yes  Totalitarianism/Authoritarianism  Iron_March   \n",
       "2  Fascist            Yes                           Fascist  Iron_March   \n",
       "3  Fascist            Yes                Supremacism/Racism  Iron_March   \n",
       "4  Fascist            Yes                               NaN  Iron_March   \n",
       "\n",
       "   String_Length Language_ID  Character_Length  \n",
       "0            140          en               114  \n",
       "1            337          en               275  \n",
       "2            241          en               198  \n",
       "3            246          en               201  \n",
       "4            636          en               580  "
      ]
     },
     "execution_count": 4,
     "metadata": {},
     "output_type": "execute_result"
    }
   ],
   "source": [
    "df.head()"
   ]
  },
  {
   "cell_type": "code",
   "execution_count": 5,
   "metadata": {},
   "outputs": [
    {
     "data": {
      "text/plain": [
       "(25969, 10)"
      ]
     },
     "execution_count": 5,
     "metadata": {},
     "output_type": "execute_result"
    }
   ],
   "source": [
    "df.shape"
   ]
  },
  {
   "cell_type": "code",
   "execution_count": 6,
   "metadata": {},
   "outputs": [],
   "source": [
    "# We will create another column 'Numeric_Label' which will indicate:\n",
    "# 0: Non-fascist sample, 1: fascist sample"
   ]
  },
  {
   "cell_type": "code",
   "execution_count": 7,
   "metadata": {},
   "outputs": [],
   "source": [
    "def converter(Fascist_Speech):\n",
    "    if Fascist_Speech == 'Yes':\n",
    "        return 1\n",
    "    else:\n",
    "        return 0"
   ]
  },
  {
   "cell_type": "code",
   "execution_count": 8,
   "metadata": {},
   "outputs": [],
   "source": [
    "df['Numeric_Label'] = df['Fascist_Speech'].apply(converter)"
   ]
  },
  {
   "cell_type": "code",
   "execution_count": 9,
   "metadata": {},
   "outputs": [],
   "source": [
    "# Now we create a new Synthetic dataset consisting only of the Message Posts and the Labels"
   ]
  },
  {
   "cell_type": "code",
   "execution_count": 10,
   "metadata": {},
   "outputs": [],
   "source": [
    "synthetic_df = df[['Message_Post', 'Numeric_Label', 'Label']].copy()"
   ]
  },
  {
   "cell_type": "code",
   "execution_count": 11,
   "metadata": {},
   "outputs": [
    {
     "data": {
      "text/html": [
       "<div>\n",
       "<style scoped>\n",
       "    .dataframe tbody tr th:only-of-type {\n",
       "        vertical-align: middle;\n",
       "    }\n",
       "\n",
       "    .dataframe tbody tr th {\n",
       "        vertical-align: top;\n",
       "    }\n",
       "\n",
       "    .dataframe thead th {\n",
       "        text-align: right;\n",
       "    }\n",
       "</style>\n",
       "<table border=\"1\" class=\"dataframe\">\n",
       "  <thead>\n",
       "    <tr style=\"text-align: right;\">\n",
       "      <th></th>\n",
       "      <th>Message_Post</th>\n",
       "      <th>Numeric_Label</th>\n",
       "      <th>Label</th>\n",
       "    </tr>\n",
       "  </thead>\n",
       "  <tbody>\n",
       "    <tr>\n",
       "      <th>0</th>\n",
       "      <td>If you mean the dark+orange skin then that's a...</td>\n",
       "      <td>1</td>\n",
       "      <td>Fascist</td>\n",
       "    </tr>\n",
       "    <tr>\n",
       "      <th>1</th>\n",
       "      <td>This journal (about 25 pages) provides a good ...</td>\n",
       "      <td>1</td>\n",
       "      <td>Fascist</td>\n",
       "    </tr>\n",
       "    <tr>\n",
       "      <th>2</th>\n",
       "      <td>AS for the book you sent a link to: it is inte...</td>\n",
       "      <td>1</td>\n",
       "      <td>Fascist</td>\n",
       "    </tr>\n",
       "    <tr>\n",
       "      <th>3</th>\n",
       "      <td>I don't know if you've seen many of my posts o...</td>\n",
       "      <td>1</td>\n",
       "      <td>Fascist</td>\n",
       "    </tr>\n",
       "    <tr>\n",
       "      <th>4</th>\n",
       "      <td>In defining superiority I rank it like this:\\n...</td>\n",
       "      <td>1</td>\n",
       "      <td>Fascist</td>\n",
       "    </tr>\n",
       "  </tbody>\n",
       "</table>\n",
       "</div>"
      ],
      "text/plain": [
       "                                        Message_Post  Numeric_Label    Label\n",
       "0  If you mean the dark+orange skin then that's a...              1  Fascist\n",
       "1  This journal (about 25 pages) provides a good ...              1  Fascist\n",
       "2  AS for the book you sent a link to: it is inte...              1  Fascist\n",
       "3  I don't know if you've seen many of my posts o...              1  Fascist\n",
       "4  In defining superiority I rank it like this:\\n...              1  Fascist"
      ]
     },
     "execution_count": 11,
     "metadata": {},
     "output_type": "execute_result"
    }
   ],
   "source": [
    "synthetic_df.head()"
   ]
  },
  {
   "cell_type": "markdown",
   "metadata": {},
   "source": [
    "\"\"\n",
    "\n",
    "Below are the methods we will apply for preprocessing techniques to the textual data (Message_posts).\n",
    "This will clean the data and normalise the text.\n",
    "\n",
    "\"\""
   ]
  },
  {
   "cell_type": "code",
   "execution_count": 12,
   "metadata": {},
   "outputs": [],
   "source": [
    "# Function to remove emoticons from a String. \n",
    "\n",
    "def remove_emoticons(data):\n",
    "    emoticons = regrex_pattern = re.compile(pattern = \"[\"\n",
    "        u\"\\U0001F600-\\U0001F64F\"  \n",
    "        u\"\\U0001F300-\\U0001F5FF\"  \n",
    "        u\"\\U0001F680-\\U0001F6FF\"  \n",
    "        u\"\\U0001F1E0-\\U0001F1FF\" \"]+\", flags = re.UNICODE)\n",
    "    return emoticons.sub(r'', data)\n",
    "\n",
    "\n",
    "# Function to replace numerical numbers with their text counterparts.\n",
    "\n",
    "def convert_numbers(data):\n",
    "    inf = inflect.engine()\n",
    "    for word in data:\n",
    "        if word.isdigit():\n",
    "            data = re.sub(word, inf.number_to_words(word), data)\n",
    "        else:\n",
    "            continue\n",
    "    return data\n",
    "\n",
    "# A function to remove stopwords from tokenized words.\n",
    "\n",
    "def remove_stopwords(data):\n",
    "    return[word for word in data if not word in stopwords.words('english')]\n",
    "\n",
    "\n",
    "# This function can be used if we only want to stem the text.\n",
    "# Must be applied as -> gold_df= stem(gold_df)\n",
    "\n",
    "def stem(data):\n",
    "    stemmer = nltk.stem.PorterStemmer()\n",
    "    data['Message_Post'] = data['Message_Post'].apply(lambda x: [stemmer.stem(word) for word in x.split()])\n",
    "    return data\n",
    "\n",
    "\n",
    "# Function 1 to clean data in pre-processing steps.\n",
    "# Converts String to lower case.\n",
    "# Deletes text between < and > \n",
    "# Removes punctuation from text ... \n",
    "# ...(Remember this line should not be applied to the shuffled dataset.) \n",
    "# Removes URLs\n",
    "\n",
    "def clean_data_1(data):\n",
    "    data = data.lower()\n",
    "    data = re.sub('<.*?>', '', data)\n",
    "    data = re.sub('[%s]' % re.escape(string.punctuation), '', data)\n",
    "    data = re.sub(r'http\\S+', '', data)\n",
    "    return data\n",
    "\n",
    "# Function 2 to clean data in pre-processing steps.\n",
    "# Removes non-sensical data.\n",
    "# Removes emoticons\n",
    "# clears up white space.\n",
    "\n",
    "def clean_data_2(data):\n",
    "    data = re.sub('-', ' ', data) \n",
    "    data = re.sub('\\n', '', data)\n",
    "    data = remove_emoticons(data)\n",
    "    data = convert_numbers(data)\n",
    "\n",
    "    data = re.sub(' +', ' ', data)\n",
    "    return data   "
   ]
  },
  {
   "cell_type": "markdown",
   "metadata": {},
   "source": [
    "Now to apply the preprocessing methods on synthetic_df"
   ]
  },
  {
   "cell_type": "code",
   "execution_count": 13,
   "metadata": {},
   "outputs": [
    {
     "data": {
      "text/plain": [
       "Message_Post     0\n",
       "Numeric_Label    0\n",
       "Label            0\n",
       "dtype: int64"
      ]
     },
     "execution_count": 13,
     "metadata": {},
     "output_type": "execute_result"
    }
   ],
   "source": [
    "synthetic_df.isnull().sum()"
   ]
  },
  {
   "cell_type": "code",
   "execution_count": 14,
   "metadata": {},
   "outputs": [],
   "source": [
    "# Clean the data...\n",
    "\n",
    "synthetic_df['Message_Post'] = pd.DataFrame(synthetic_df.Message_Post.apply(clean_data_1).apply(clean_data_2))"
   ]
  },
  {
   "cell_type": "code",
   "execution_count": 58,
   "metadata": {},
   "outputs": [],
   "source": [
    "# Apply Stemming on the text....\n",
    "\n",
    "# synthetic_df= stem(synthetic_df)"
   ]
  },
  {
   "cell_type": "code",
   "execution_count": 15,
   "metadata": {},
   "outputs": [
    {
     "data": {
      "text/html": [
       "<div>\n",
       "<style scoped>\n",
       "    .dataframe tbody tr th:only-of-type {\n",
       "        vertical-align: middle;\n",
       "    }\n",
       "\n",
       "    .dataframe tbody tr th {\n",
       "        vertical-align: top;\n",
       "    }\n",
       "\n",
       "    .dataframe thead th {\n",
       "        text-align: right;\n",
       "    }\n",
       "</style>\n",
       "<table border=\"1\" class=\"dataframe\">\n",
       "  <thead>\n",
       "    <tr style=\"text-align: right;\">\n",
       "      <th></th>\n",
       "      <th>Message_Post</th>\n",
       "      <th>Numeric_Label</th>\n",
       "      <th>Label</th>\n",
       "    </tr>\n",
       "  </thead>\n",
       "  <tbody>\n",
       "    <tr>\n",
       "      <th>0</th>\n",
       "      <td>if you mean the darkorange skin then thats a s...</td>\n",
       "      <td>1</td>\n",
       "      <td>Fascist</td>\n",
       "    </tr>\n",
       "    <tr>\n",
       "      <th>1</th>\n",
       "      <td>this journal about twofive pages provides a go...</td>\n",
       "      <td>1</td>\n",
       "      <td>Fascist</td>\n",
       "    </tr>\n",
       "    <tr>\n",
       "      <th>2</th>\n",
       "      <td>as for the book you sent a link to it is inter...</td>\n",
       "      <td>1</td>\n",
       "      <td>Fascist</td>\n",
       "    </tr>\n",
       "    <tr>\n",
       "      <th>3</th>\n",
       "      <td>i dont know if youve seen many of my posts on ...</td>\n",
       "      <td>1</td>\n",
       "      <td>Fascist</td>\n",
       "    </tr>\n",
       "    <tr>\n",
       "      <th>4</th>\n",
       "      <td>in defining superiority i rank it like thisphy...</td>\n",
       "      <td>1</td>\n",
       "      <td>Fascist</td>\n",
       "    </tr>\n",
       "  </tbody>\n",
       "</table>\n",
       "</div>"
      ],
      "text/plain": [
       "                                        Message_Post  Numeric_Label    Label\n",
       "0  if you mean the darkorange skin then thats a s...              1  Fascist\n",
       "1  this journal about twofive pages provides a go...              1  Fascist\n",
       "2  as for the book you sent a link to it is inter...              1  Fascist\n",
       "3  i dont know if youve seen many of my posts on ...              1  Fascist\n",
       "4  in defining superiority i rank it like thisphy...              1  Fascist"
      ]
     },
     "execution_count": 15,
     "metadata": {},
     "output_type": "execute_result"
    }
   ],
   "source": [
    "synthetic_df.head()"
   ]
  },
  {
   "cell_type": "code",
   "execution_count": 18,
   "metadata": {},
   "outputs": [],
   "source": [
    "synthetic_df.to_csv(r'/Users/siondavies/Desktop/Temp_Datasets/Synthetic_clean_1.csv')"
   ]
  }
 ],
 "metadata": {
  "kernelspec": {
   "display_name": "Python 3",
   "language": "python",
   "name": "python3"
  },
  "language_info": {
   "codemirror_mode": {
    "name": "ipython",
    "version": 3
   },
   "file_extension": ".py",
   "mimetype": "text/x-python",
   "name": "python",
   "nbconvert_exporter": "python",
   "pygments_lexer": "ipython3",
   "version": "3.7.6"
  }
 },
 "nbformat": 4,
 "nbformat_minor": 4
}
